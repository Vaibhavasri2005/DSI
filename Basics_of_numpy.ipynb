{
  "nbformat": 4,
  "nbformat_minor": 0,
  "metadata": {
    "colab": {
      "provenance": [],
      "authorship_tag": "ABX9TyMj+RRb3+xvGEek4OdjmvOQ",
      "include_colab_link": true
    },
    "kernelspec": {
      "name": "python3",
      "display_name": "Python 3"
    },
    "language_info": {
      "name": "python"
    }
  },
  "cells": [
    {
      "cell_type": "markdown",
      "metadata": {
        "id": "view-in-github",
        "colab_type": "text"
      },
      "source": [
        "<a href=\"https://colab.research.google.com/github/Vaibhavasri2005/DSI/blob/main/Basics_of_numpy.ipynb\" target=\"_parent\"><img src=\"https://colab.research.google.com/assets/colab-badge.svg\" alt=\"Open In Colab\"/></a>"
      ]
    },
    {
      "cell_type": "markdown",
      "source": [],
      "metadata": {
        "id": "qgW7Rn1SoDMF"
      }
    },
    {
      "cell_type": "markdown",
      "source": [
        "1.In NumPy, zeros are used to create an array filled with zeros. The `numpy.zeros` function allows you to specify the shape of the array (number of elements along each dimension) and the data type. This is useful when you need to initialize an array with zeros before populating it with actual data during computations or data manipulation in scientific computing and numerical analysis."
      ],
      "metadata": {
        "id": "gb8vwKhFoqxc"
      }
    },
    {
      "cell_type": "code",
      "source": [
        "import numpy as np\n",
        "a=np.zeros((2,3))\n",
        "print(a)"
      ],
      "metadata": {
        "colab": {
          "base_uri": "https://localhost:8080/"
        },
        "id": "yUmxHNbzoFBT",
        "outputId": "328fb1d4-c8c8-46fc-95eb-2de8c411980f"
      },
      "execution_count": null,
      "outputs": [
        {
          "output_type": "stream",
          "name": "stdout",
          "text": [
            "[[0. 0. 0.]\n",
            " [0. 0. 0.]]\n"
          ]
        }
      ]
    },
    {
      "cell_type": "markdown",
      "source": [
        "We need to import drive to extract pdf,csv ect... file from our drive"
      ],
      "metadata": {
        "id": "btz5SS5noCku"
      }
    },
    {
      "cell_type": "code",
      "source": [
        "from google.colab import drive\n",
        "drive.mount('/content/gdrive')"
      ],
      "metadata": {
        "id": "CLxLySFDbJ79",
        "colab": {
          "base_uri": "https://localhost:8080/"
        },
        "outputId": "bea0591f-d36b-4810-8733-96c9ec98b034"
      },
      "execution_count": null,
      "outputs": [
        {
          "output_type": "stream",
          "name": "stdout",
          "text": [
            "Mounted at /content/gdrive\n"
          ]
        }
      ]
    },
    {
      "cell_type": "markdown",
      "source": [
        "To create an array in many programming languages, you typically follow these steps:\n",
        "\n",
        "1. **Declare the array:** Specify the type of elements the array will hold and give it a name.\n",
        "\n",
        "    Example (in Python):\n",
        "    ```python\n",
        "    my_array = []\n",
        "    ```\n",
        "\n",
        "2. **Initialize the array:** Assign values to the array elements.\n",
        "\n",
        "    Example:\n",
        "    ```python\n",
        "    my_array = [1, 2, 3, 4, 5]\n",
        "    ```\n",
        "\n",
        "    In some languages, you might need to specify the size of the array during declaration.\n",
        "\n",
        "3. **Access array elements:** You can access elements using their indices.\n",
        "\n",
        "    Example:\n",
        "    ```python\n",
        "    print(my_array[2])  # This prints the third element (index 2)\n",
        "    ```"
      ],
      "metadata": {
        "id": "lo_vnr_BvClo"
      }
    },
    {
      "cell_type": "code",
      "source": [
        "\n",
        "\n",
        "import numpy as np\n",
        "\n",
        "# Create an array of 5 evenly spaced values from 0 to 1\n",
        "arr = np.linspace(0, 1, 5)\n",
        "print(arr)"
      ],
      "metadata": {
        "colab": {
          "base_uri": "https://localhost:8080/"
        },
        "id": "dKQ1w8HFiybF",
        "outputId": "1337dcd5-7bdd-425d-e029-9aa1d0baa672"
      },
      "execution_count": null,
      "outputs": [
        {
          "output_type": "stream",
          "name": "stdout",
          "text": [
            "[0.   0.25 0.5  0.75 1.  ]\n"
          ]
        }
      ]
    },
    {
      "cell_type": "markdown",
      "source": [
        "The shape attribute returns a tuple representing the size of each dimension. If you want a single value representing the total number of elements, you can use size"
      ],
      "metadata": {
        "id": "K4kWTSjMBUDW"
      }
    },
    {
      "cell_type": "code",
      "source": [
        "\n",
        "\n",
        "import numpy as np\n",
        "\n",
        "arr = np.array([[1, 2, 3], [4, 5, 6]])\n",
        "print(arr.size)"
      ],
      "metadata": {
        "colab": {
          "base_uri": "https://localhost:8080/"
        },
        "id": "PxmhDWO_j1YO",
        "outputId": "06dc28cc-bfdb-4572-d7dc-26eb8716a421"
      },
      "execution_count": null,
      "outputs": [
        {
          "output_type": "stream",
          "name": "stdout",
          "text": [
            "6\n"
          ]
        }
      ]
    },
    {
      "cell_type": "markdown",
      "source": [
        "In NumPy, the ndim attribute is used to determine the number of dimensions of a NumPy array."
      ],
      "metadata": {
        "id": "QphiIhPcL8-q"
      }
    },
    {
      "cell_type": "code",
      "source": [
        "\n",
        "\n",
        "import numpy as np\n",
        "\n",
        "arr = np.array([[1, 2, 3], [4, 5, 6]])\n",
        "print(arr.ndim)"
      ],
      "metadata": {
        "colab": {
          "base_uri": "https://localhost:8080/"
        },
        "id": "semuSu4JkLxs",
        "outputId": "7fefaa90-0c60-45e3-bb83-7f6c7ee24f4c"
      },
      "execution_count": null,
      "outputs": [
        {
          "output_type": "stream",
          "name": "stdout",
          "text": [
            "2\n"
          ]
        }
      ]
    },
    {
      "cell_type": "markdown",
      "source": [
        "In NumPy, the dot function is used for matrix multiplication or dot product of two arrays. The behavior of dot depends on the dimensions of the input arrays:"
      ],
      "metadata": {
        "id": "SXnb84kdMSgx"
      }
    },
    {
      "cell_type": "code",
      "source": [
        "\n",
        "import numpy as np\n",
        "\n",
        "a = np.array([[1, 2], [3, 4]])\n",
        "b = np.array([[5, 6], [7, 8]])\n",
        "\n",
        "result = np.dot(a, b)"
      ],
      "metadata": {
        "id": "E4V8-lYBk0hD"
      },
      "execution_count": null,
      "outputs": []
    },
    {
      "cell_type": "code",
      "source": [
        "import numpy as np"
      ],
      "metadata": {
        "id": "Ii6hOpJWci98"
      },
      "execution_count": null,
      "outputs": []
    },
    {
      "cell_type": "markdown",
      "source": [
        "In NumPy, the eye function is used to create a 2D identity matrix. An identity matrix is a square matrix with ones on the main diagonal and zeros elsewhere. The eye function is particularly useful in linear algebra and matrix operations. Here's how you can use it"
      ],
      "metadata": {
        "id": "Of3WiQkZMiQl"
      }
    },
    {
      "cell_type": "code",
      "source": [
        "a=np.eye(5)\n",
        "print(a)"
      ],
      "metadata": {
        "colab": {
          "base_uri": "https://localhost:8080/"
        },
        "id": "_he_cZ7Scy-W",
        "outputId": "8a377074-87f9-403d-aa3d-2ba8c674f1a1"
      },
      "execution_count": null,
      "outputs": [
        {
          "output_type": "stream",
          "name": "stdout",
          "text": [
            "[[1. 0. 0. 0. 0.]\n",
            " [0. 1. 0. 0. 0.]\n",
            " [0. 0. 1. 0. 0.]\n",
            " [0. 0. 0. 1. 0.]\n",
            " [0. 0. 0. 0. 1.]]\n"
          ]
        }
      ]
    },
    {
      "cell_type": "code",
      "source": [
        "b=np.array([[1,2,3],[4,5,6]])\n",
        "print(b.ndim)"
      ],
      "metadata": {
        "colab": {
          "base_uri": "https://localhost:8080/"
        },
        "id": "BVPsnnOWdahq",
        "outputId": "8f7c5ca6-3095-4291-a83c-7ada63e39372"
      },
      "execution_count": null,
      "outputs": [
        {
          "output_type": "stream",
          "name": "stdout",
          "text": [
            "2\n"
          ]
        }
      ]
    },
    {
      "cell_type": "markdown",
      "source": [
        "In NumPy, the reshape method is used to change the shape of an array without changing its data."
      ],
      "metadata": {
        "id": "jSngNE3fMwA9"
      }
    },
    {
      "cell_type": "code",
      "source": [
        "\n",
        "import numpy as np\n",
        "\n",
        "arr = np.array([1, 2, 3, 4, 5, 6])\n",
        "reshaped_arr = arr.reshape((2, 3))\n",
        "print(reshaped_arr)"
      ],
      "metadata": {
        "id": "Yi3605NqiI3r",
        "colab": {
          "base_uri": "https://localhost:8080/"
        },
        "outputId": "74099025-ef3b-4a34-caa3-574cb7bb45ec"
      },
      "execution_count": null,
      "outputs": [
        {
          "output_type": "stream",
          "name": "stdout",
          "text": [
            "[[1 2 3]\n",
            " [4 5 6]]\n"
          ]
        }
      ]
    },
    {
      "cell_type": "markdown",
      "source": [
        "The concatenate function in NumPy is used to join two or more arrays along a specified axis. This function allows you to combine arrays either vertically (along rows) or horizontally (along columns). Here's how you can use it:"
      ],
      "metadata": {
        "id": "tBFsk3FdM9GU"
      }
    },
    {
      "cell_type": "code",
      "source": [
        "\n",
        "\n",
        "import numpy as np\n",
        "\n",
        "arr1 = np.array([[1, 2], [3, 4]])\n",
        "arr2 = np.array([[5, 6]])\n",
        "\n",
        "# Concatenate along axis 0 (rows)\n",
        "result = np.concatenate((arr1, arr2), axis=0)\n",
        "print(result)"
      ],
      "metadata": {
        "colab": {
          "base_uri": "https://localhost:8080/"
        },
        "id": "fQFTU2_mw7IU",
        "outputId": "5c661366-6ce1-4fb0-c802-e1d3c2f18bd9"
      },
      "execution_count": null,
      "outputs": [
        {
          "output_type": "stream",
          "name": "stdout",
          "text": [
            "[[1 2]\n",
            " [3 4]\n",
            " [5 6]]\n"
          ]
        }
      ]
    },
    {
      "cell_type": "markdown",
      "source": [
        "In NumPy, the split function is used to split an array into multiple sub-arrays along a specified axis. This can be helpful when you want to divide a large array into smaller, more manageable pieces."
      ],
      "metadata": {
        "id": "97JVdsymNShK"
      }
    },
    {
      "cell_type": "code",
      "source": [
        "\n",
        "\n",
        "import numpy as np\n",
        "\n",
        "arr = np.array([1, 2, 3, 4, 5, 6])\n",
        "\n",
        "# Split the array into three sub-arrays\n",
        "sub_arrays = np.split(arr, 3)\n",
        "\n",
        "\n",
        "sub_arrays = np.split(arr, [2, 4])\n",
        "print(sub_arrays)"
      ],
      "metadata": {
        "colab": {
          "base_uri": "https://localhost:8080/"
        },
        "id": "qgjr7czuxbzk",
        "outputId": "fa3a629f-1cfd-47fa-ca16-070c113c7624"
      },
      "execution_count": null,
      "outputs": [
        {
          "output_type": "stream",
          "name": "stdout",
          "text": [
            "[array([1, 2]), array([3, 4]), array([5, 6])]\n"
          ]
        }
      ]
    },
    {
      "cell_type": "code",
      "source": [
        "\n",
        "\n",
        "import numpy as np\n",
        "\n",
        "# Creating a sample 3x4 matrix\n",
        "original_matrix = np.array([[1, 2, 3, 4],\n",
        "                            [5, 6, 7, 8],\n",
        "                            [9, 10, 11, 12]])\n",
        "\n",
        "# Transposing the matrix\n",
        "transposed_matrix = np.transpose(original_matrix)\n",
        "# Alternatively: transposed_matrix = original_matrix.T\n",
        "\n",
        "# Displaying the original and transposed matrices\n",
        "print(\"Original Matrix:\")\n",
        "print(original_matrix)\n",
        "\n",
        "print(\"\\n Transposed Matrix:\")\n",
        "print(transposed_matrix)"
      ],
      "metadata": {
        "colab": {
          "base_uri": "https://localhost:8080/"
        },
        "id": "5Kxl1Agjyxqd",
        "outputId": "45f6e4e6-1f57-4fdf-907e-9b02d75026c1"
      },
      "execution_count": null,
      "outputs": [
        {
          "output_type": "stream",
          "name": "stdout",
          "text": [
            "Original Matrix:\n",
            "[[ 1  2  3  4]\n",
            " [ 5  6  7  8]\n",
            " [ 9 10 11 12]]\n",
            "\n",
            " Transposed Matrix:\n",
            "[[ 1  5  9]\n",
            " [ 2  6 10]\n",
            " [ 3  7 11]\n",
            " [ 4  8 12]]\n"
          ]
        }
      ]
    },
    {
      "cell_type": "code",
      "source": [
        "\n",
        "\n",
        "import numpy as np\n",
        "import matplotlib.pyplot as plt\n",
        "\n",
        "# Generate a time array from 0 to 2*pi with 1000 points\n",
        "t = np.linspace(0, 2*np.pi, 1000)\n",
        "\n",
        "# Calculate the sine values for each time point\n",
        "sin_values = np.sin(t)\n",
        "\n",
        "# Plot the sine wave\n",
        "plt.plot(t, sin_values)\n",
        "plt.title('Sine Wave')\n",
        "plt.xlabel('Time (radians)')\n",
        "plt.ylabel('Sin(t)')\n",
        "plt.show()"
      ],
      "metadata": {
        "colab": {
          "base_uri": "https://localhost:8080/",
          "height": 227
        },
        "id": "qL8_mTfNzQSG",
        "outputId": "94c7bbde-80eb-41df-d3a2-c2cf7af748dc"
      },
      "execution_count": null,
      "outputs": [
        {
          "output_type": "display_data",
          "data": {
            "text/plain": [
              "<Figure size 640x480 with 1 Axes>"
            ],
            "image/png": "[encoded data removed]"
          },
          "metadata": {}
        }
      ]
    },
    {
      "cell_type": "markdown",
      "source": [
        "np.sin(x) :Calculate the sine and cosine of each element in the array x. These functions are fundamental in wave analysis and oscillatory phenomena."
      ],
      "metadata": {
        "id": "0l0ThHzOOdmM"
      }
    },
    {
      "cell_type": "code",
      "source": [
        "\n",
        "\n",
        "import numpy as np\n",
        "\n",
        "# Define an array of angles in radians\n",
        "angles = np.array([0, np.pi/2, np.pi, 3*np.pi/2, 2*np.pi])\n",
        "\n",
        "# Calculate sine values for each angle\n",
        "sin_values = np.sin(angles)\n",
        "\n",
        "# Print the results\n",
        "print(f'Angles (radians): {angles}')\n",
        "print(f'Sine Values: {sin_values}')"
      ],
      "metadata": {
        "id": "BP62EnLazQza",
        "outputId": "2d739a37-9039-4417-f898-dc7878a7530a",
        "colab": {
          "base_uri": "https://localhost:8080/"
        }
      },
      "execution_count": null,
      "outputs": [
        {
          "output_type": "stream",
          "name": "stdout",
          "text": [
            "Angles (radians): [0.         1.57079633 3.14159265 4.71238898 6.28318531]\n",
            "Sine Values: [ 0.0000000e+00  1.0000000e+00  1.2246468e-16 -1.0000000e+00\n",
            " -2.4492936e-16]\n"
          ]
        }
      ]
    },
    {
      "cell_type": "markdown",
      "source": [
        "Calculate the tangent of each element in the array x. Tangent is often used in geometry and trigonometry."
      ],
      "metadata": {
        "id": "OkhxH-s4zVov"
      }
    },
    {
      "cell_type": "code",
      "source": [
        "\n",
        "\n",
        "import numpy as np\n",
        "\n",
        "# Define an array of angles in radians\n",
        "angles = np.array([-np.pi/2, -np.pi/4, 0, np.pi/4, np.pi/2])\n",
        "\n",
        "# Calculate tangent values for each angle\n",
        "tan_values = np.tan(angles)\n",
        "\n",
        "# Print the results\n",
        "print('Angles (radians): {angles}')\n",
        "print('Tangent Values: {tan_values}')"
      ],
      "metadata": {
        "colab": {
          "base_uri": "https://localhost:8080/"
        },
        "id": "ZXOhciMf05eV",
        "outputId": "b433dd5c-8b0a-4f18-c6d2-35d674bb0291"
      },
      "execution_count": null,
      "outputs": [
        {
          "output_type": "stream",
          "name": "stdout",
          "text": [
            "Angles (radians): {angles}\n",
            "Tangent Values: {tan_values}\n"
          ]
        }
      ]
    },
    {
      "cell_type": "markdown",
      "source": [
        "Calculate the inverse sin , respectively. These functions return angles whose trigonometric functions are equal to the specified values."
      ],
      "metadata": {
        "id": "MB88lcfdOokk"
      }
    },
    {
      "cell_type": "code",
      "source": [
        "\n",
        "\n",
        "import numpy as np\n",
        "\n",
        "# Define an array of values between -1 and 1\n",
        "values = np.array([-0.8, -0.5, 0, 0.5, 0.8])\n",
        "\n",
        "# Calculate arcsine values for each value\n",
        "arcsin_values = np.arcsin(values)\n",
        "\n",
        "# Print the results\n",
        "print('Values: {values}')\n",
        "print('Arcsine Values: {arcsin_values}')"
      ],
      "metadata": {
        "colab": {
          "base_uri": "https://localhost:8080/"
        },
        "id": "3KMQ37qh1GJc",
        "outputId": "06793fe4-17e2-487f-9737-c0c7ac09e94b"
      },
      "execution_count": null,
      "outputs": [
        {
          "output_type": "stream",
          "name": "stdout",
          "text": [
            "Values: {values}\n",
            "Arcsine Values: {arcsin_values}\n"
          ]
        }
      ]
    },
    {
      "cell_type": "markdown",
      "source": [
        "Calculate the inverse cos, respectively. These functions return angles whose trigonometric functions are equal to the specified values."
      ],
      "metadata": {
        "id": "fPctr7qDXyYh"
      }
    },
    {
      "cell_type": "code",
      "source": [
        "\n",
        "\n",
        "import numpy as np\n",
        "\n",
        "# Define an array of values between -1 and 1\n",
        "values = np.array([-0.8, -0.5, 0, 0.5, 0.8])\n",
        "\n",
        "# Calculate arccosine values for each value\n",
        "arccos_values = np.arccos(values)\n",
        "\n",
        "# Print the results\n",
        "print(f'Values: {values}')\n",
        "print(f'Arccosine Values: {arccos_values}')"
      ],
      "metadata": {
        "colab": {
          "base_uri": "https://localhost:8080/"
        },
        "id": "FXaOdAx41oOX",
        "outputId": "6c685866-ab7b-49a3-ed12-95a57ce8537c"
      },
      "execution_count": null,
      "outputs": [
        {
          "output_type": "stream",
          "name": "stdout",
          "text": [
            "Values: [-0.8 -0.5  0.   0.5  0.8]\n",
            "Arccosine Values: [2.49809154 2.0943951  1.57079633 1.04719755 0.64350111]\n"
          ]
        }
      ]
    },
    {
      "cell_type": "markdown",
      "source": [
        "np.cos(x):Calculate the sine and cosine of each element in the array x. These functions are fundamental in wave analysis"
      ],
      "metadata": {
        "id": "Az13O818OPap"
      }
    },
    {
      "cell_type": "code",
      "source": [
        "\n",
        "\n",
        "import numpy as np\n",
        "\n",
        "# Define an array of angles in radians\n",
        "angles = np.array([0, np.pi/2, np.pi, 3*np.pi/2, 2*np.pi])\n",
        "\n",
        "# Calculate cosine values for each angle\n",
        "cos_values = np.cos(angles)\n",
        "\n",
        "# Print the results\n",
        "print('Angles (radians): {angles}')\n",
        "print('Cosine Values: {cos_value}')"
      ],
      "metadata": {
        "id": "XSEK9GYbzWmw",
        "colab": {
          "base_uri": "https://localhost:8080/"
        },
        "outputId": "e30aa021-05ff-4ce7-e66f-6406c348849a"
      },
      "execution_count": null,
      "outputs": [
        {
          "output_type": "stream",
          "name": "stdout",
          "text": [
            "Angles (radians): {angles}\n",
            "Cosine Values: {cos_value}\n"
          ]
        }
      ]
    },
    {
      "cell_type": "code",
      "source": [
        "\n",
        "r = np.array([1, 2, 3, 11, 12])\n",
        "print(np.sin(r))\n",
        "print(np.cos(r))\n",
        "print(np.tan(r))\n",
        "print(np.arcsin(r))\n",
        "print(np.arccos(r))\n",
        "print(np.arctan(r))"
      ],
      "metadata": {
        "colab": {
          "base_uri": "https://localhost:8080/"
        },
        "id": "VbY8y4GrDJ-K",
        "outputId": "db723b5f-9c28-4f7a-914d-a70bcae2c498"
      },
      "execution_count": null,
      "outputs": [
        {
          "output_type": "stream",
          "name": "stdout",
          "text": [
            "[ 0.84147098  0.90929743  0.14112001 -0.99999021 -0.53657292]\n",
            "[ 0.54030231 -0.41614684 -0.9899925   0.0044257   0.84385396]\n",
            "[ 1.55740772e+00 -2.18503986e+00 -1.42546543e-01 -2.25950846e+02\n",
            " -6.35859929e-01]\n",
            "[1.57079633        nan        nan        nan        nan]\n",
            "[ 0. nan nan nan nan]\n",
            "[0.78539816 1.10714872 1.24904577 1.48013644 1.48765509]\n"
          ]
        },
        {
          "output_type": "stream",
          "name": "stderr",
          "text": [
            "<ipython-input-25-bfe3dab2a3a2>:5: RuntimeWarning: invalid value encountered in arcsin\n",
            "  print(np.arcsin(r))\n",
            "<ipython-input-25-bfe3dab2a3a2>:6: RuntimeWarning: invalid value encountered in arccos\n",
            "  print(np.arccos(r))\n"
          ]
        }
      ]
    },
    {
      "cell_type": "markdown",
      "source": [
        "In NumPy, the np.ones function is used to create an array filled with ones. This function is useful when you need to initialize an array with a constant value of 1."
      ],
      "metadata": {
        "id": "7bpGGQzeNwcR"
      }
    },
    {
      "cell_type": "code",
      "source": [
        "a=np.ones((2,3))\n",
        "print(a)"
      ],
      "metadata": {
        "colab": {
          "base_uri": "https://localhost:8080/"
        },
        "id": "4JHicPMmcmNn",
        "outputId": "9bf107bf-bd5b-491e-afb4-d6e473523a27"
      },
      "execution_count": null,
      "outputs": [
        {
          "output_type": "stream",
          "name": "stdout",
          "text": [
            "[[1. 1. 1.]\n",
            " [1. 1. 1.]]\n"
          ]
        }
      ]
    },
    {
      "cell_type": "markdown",
      "source": [
        "In NumPy, the random.rand() function is used to generate an array of random numbers sampled from a uniform distribution over the half-open interval [0.0, 1.0). Each time you call this function, it produces an array with values between 0 and 1."
      ],
      "metadata": {
        "id": "f2DA4VXWPzTv"
      }
    },
    {
      "cell_type": "code",
      "source": [
        "\n",
        "print(np.random.rand())\n",
        "print(\"Random values in a given shape:\")\n",
        "random_array = np.random.rand(3, 2)\n",
        "print(random_array)"
      ],
      "metadata": {
        "colab": {
          "base_uri": "https://localhost:8080/"
        },
        "id": "mfVpO6i5Ecyd",
        "outputId": "6bc624a5-0990-481f-c259-876bba62b477"
      },
      "execution_count": null,
      "outputs": [
        {
          "output_type": "stream",
          "name": "stdout",
          "text": [
            "0.07404340661445152\n",
            "Random values in a given shape:\n",
            "[[0.2237896  0.60198665]\n",
            " [0.34124432 0.83959248]\n",
            " [0.8908218  0.17521459]]\n"
          ]
        }
      ]
    },
    {
      "cell_type": "markdown",
      "source": [
        "In statistics, a percentile is a measure used to indicate the relative standing of a particular value within a dataset. The numpy.percentile function in NumPy is used to compute the q-th percentile of the data along a specified axis."
      ],
      "metadata": {
        "id": "AQFJeIxwQARr"
      }
    },
    {
      "cell_type": "code",
      "source": [
        "\n",
        "\n",
        "\n",
        "data = np.array([1, 2, 3, 4, 5, 6, 7, 8, 9, 10])\n",
        "\n",
        "# Compute the 25th and 75th percentiles\n",
        "percentile_25 = np.percentile(data, 25)\n",
        "percentile_75 = np.percentile(data, 75)\n",
        "\n",
        "print(\"25th percentile:\", percentile_25)\n",
        "print(\"75th percentile:\", percentile_75)\n",
        "\n",
        "#This means that 25% of the values in the dataset are less than or equal to 3.25, and 75% of the values are less than or equal to 7.75."
      ],
      "metadata": {
        "colab": {
          "base_uri": "https://localhost:8080/"
        },
        "id": "JKtGlQmIIdxY",
        "outputId": "964338c4-be6e-4974-a62f-da987d8b3868"
      },
      "execution_count": null,
      "outputs": [
        {
          "output_type": "stream",
          "name": "stdout",
          "text": [
            "25th percentile: 3.25\n",
            "75th percentile: 7.75\n"
          ]
        }
      ]
    },
    {
      "cell_type": "code",
      "source": [
        "\n",
        "#The numpy.corrcoef() function in Python's NumPy library is used to compute the Pearson correlation coefficient between two or more arrays. The Pearson correlation coefficient is a measure of the linear relationship between two variables. It ranges from -1 to 1, where:\n",
        "\n",
        "#1 indicates a perfect positive linear relationship.\n",
        "#-1 indicates a perfect negative linear relationship.\n",
        "#0 indicates no linear relationship.\n",
        "import numpy as np\n",
        "\n",
        "x = np.array([1, 2, 3, 4, 5])\n",
        "y = np.array([2, 3, 4, 5, 6])\n",
        "\n",
        "# Compute the correlation coefficient\n",
        "correlation_matrix = np.corrcoef(x, y)\n",
        "\n",
        "# The correlation coefficient is in the (0, 1) position of the matrix for two variables\n",
        "correlation_coefficient = correlation_matrix[0, 1]\n",
        "\n",
        "print(\"Correlation Coefficient:\", correlation_coefficient)"
      ],
      "metadata": {
        "colab": {
          "base_uri": "https://localhost:8080/"
        },
        "id": "llvWxptWIs8A",
        "outputId": "1fb9bc2d-6f78-4dfe-ece1-ff9131824cc8"
      },
      "execution_count": null,
      "outputs": [
        {
          "output_type": "stream",
          "name": "stdout",
          "text": [
            "Correlation Coefficient: 0.9999999999999999\n"
          ]
        }
      ]
    },
    {
      "cell_type": "markdown",
      "source": [
        "In NumPy, the logical AND operation is performed element-wise using the numpy.logical_and function. This function takes two arrays as input and returns an array of the same shape where each element is the result of the logical AND operation applied to the corresponding elements of the input arrays."
      ],
      "metadata": {
        "id": "BBDvWxthQDb_"
      }
    },
    {
      "cell_type": "code",
      "source": [
        "\n",
        "arr1 = np.array([True, False, True])\n",
        "arr2 = np.array([False, True, True])\n",
        "\n",
        "# Perform element-wise logical AND\n",
        "result = np.logical_and(arr1, arr2)\n",
        "\n",
        "print(result)"
      ],
      "metadata": {
        "colab": {
          "base_uri": "https://localhost:8080/"
        },
        "id": "Ax91lTNTI1cY",
        "outputId": "515261ef-74d7-4b5f-d2c7-1db7fbafd3d7"
      },
      "execution_count": null,
      "outputs": [
        {
          "output_type": "stream",
          "name": "stdout",
          "text": [
            "[False False  True]\n"
          ]
        }
      ]
    },
    {
      "cell_type": "code",
      "source": [
        "\n",
        "\n",
        "A = np.array([[4, -2],\n",
        "              [1,  1]])\n",
        "\n",
        "# Compute the eigenvalues and eigenvectors\n",
        "eigenvalues, eigenvectors = np.linalg.eig(A)\n",
        "\n",
        "print(\"Matrix:\")\n",
        "print(A)\n",
        "\n",
        "print(\"\\nEigenvalues:\")\n",
        "print(eigenvalues)\n",
        "\n",
        "print(\"\\nEigenvectors:\")\n",
        "print(eigenvectors)"
      ],
      "metadata": {
        "id": "zfsi5_msuDy2"
      },
      "execution_count": null,
      "outputs": []
    },
    {
      "cell_type": "code",
      "source": [
        "arr1 = np.array([True, False, True])\n",
        "arr2 = np.array([False,True,True])\n",
        "result2 = np.logical_not(arr1, arr2)\n",
        "print(result2)"
      ],
      "metadata": {
        "colab": {
          "base_uri": "https://localhost:8080/"
        },
        "id": "j72f0_x_JVCf",
        "outputId": "c30decec-7abb-436c-cfa2-2295a4f7b7a9"
      },
      "execution_count": null,
      "outputs": [
        {
          "output_type": "stream",
          "name": "stdout",
          "text": [
            "[False  True False]\n"
          ]
        }
      ]
    },
    {
      "cell_type": "markdown",
      "source": [
        "In NumPy, the logical OR operation is performed element-wise using the numpy.logical_or function. This function takes two arrays as input and returns an array of the same shape where each element is the result of the logical OR operation applied to the corresponding elements of the input arrays."
      ],
      "metadata": {
        "id": "FDpyh-_MQcHs"
      }
    },
    {
      "cell_type": "code",
      "source": [
        "arr1 = np.array([True, False, True])\n",
        "arr2 = np.array([False,True,True])\n",
        "result1 = np.logical_or(arr1, arr2)\n",
        "print(result1)"
      ],
      "metadata": {
        "colab": {
          "base_uri": "https://localhost:8080/"
        },
        "id": "Ii8KCTB-I4Cd",
        "outputId": "517876a6-6638-4d17-e077-5d05cc1bc826"
      },
      "execution_count": null,
      "outputs": [
        {
          "output_type": "stream",
          "name": "stdout",
          "text": [
            "[ True  True  True]\n"
          ]
        }
      ]
    },
    {
      "cell_type": "markdown",
      "source": [
        "In NumPy, the random.randint function is used to generate random integers within a specified range. This function allows you to generate random integers that can be useful in various applications, such as simulation, testing, and generating random"
      ],
      "metadata": {
        "id": "SXHEiCrWTckz"
      }
    },
    {
      "cell_type": "code",
      "source": [
        "print(\"Random Integers:\")\n",
        "random_integers = np.random.randint(1, 10, size=(3, 4))\n",
        "print(random_integers)"
      ],
      "metadata": {
        "colab": {
          "base_uri": "https://localhost:8080/"
        },
        "id": "yySc3sXTEtFq",
        "outputId": "3e3cd807-d9f1-40b4-ba6f-593c342ec42b"
      },
      "execution_count": null,
      "outputs": [
        {
          "output_type": "stream",
          "name": "stdout",
          "text": [
            "Random Integers:\n",
            "[[9 5 4 5]\n",
            " [5 3 4 4]\n",
            " [9 2 4 9]]\n"
          ]
        }
      ]
    },
    {
      "cell_type": "markdown",
      "source": [
        "The random.shuffle function in NumPy is used to randomly permute a sequence or to shuffle the elements of an array along the first axis. This function modifies the array in place.Here's an example of using numpy.random.shuffle:"
      ],
      "metadata": {
        "id": "4pTXTYmcTbEK"
      }
    },
    {
      "cell_type": "code",
      "source": [
        "print(\"Suffle an array:\")\n",
        "a=np.array([1,2,3,5,4])\n",
        "np.random.shuffle(a)\n",
        "print(a)"
      ],
      "metadata": {
        "colab": {
          "base_uri": "https://localhost:8080/"
        },
        "id": "NpFX1kaCEwkQ",
        "outputId": "54a0eba2-2bbd-450c-d0b0-a4ba352523be"
      },
      "execution_count": null,
      "outputs": [
        {
          "output_type": "stream",
          "name": "stdout",
          "text": [
            "Suffle an array:\n",
            "[4 3 1 5 2]\n"
          ]
        }
      ]
    },
    {
      "cell_type": "code",
      "source": [
        "print(\"Random values from a standard normal distribution:\")\n",
        "random_array = np.random.randn(3, 2)\n",
        "print(random_array)"
      ],
      "metadata": {
        "colab": {
          "base_uri": "https://localhost:8080/"
        },
        "id": "DGasOiQYEger",
        "outputId": "07702e06-0718-4aeb-f38b-bfcbe6eccdb6"
      },
      "execution_count": null,
      "outputs": [
        {
          "output_type": "stream",
          "name": "stdout",
          "text": [
            "Random values from a standard normal distribution:\n",
            "[[ 1.10013924 -0.02537529]\n",
            " [ 0.59787884 -0.21376151]\n",
            " [-0.82434359 -0.90225346]]\n"
          ]
        }
      ]
    },
    {
      "cell_type": "markdown",
      "source": [
        "To print a number from the given array"
      ],
      "metadata": {
        "id": "0Fz47nMfTxfX"
      }
    },
    {
      "cell_type": "code",
      "source": [
        "a=np.array([10,20,30,40])\n",
        "print(a[2])"
      ],
      "metadata": {
        "colab": {
          "base_uri": "https://localhost:8080/"
        },
        "id": "vvVm9TiPe5Hj",
        "outputId": "ee75d5cd-f58e-4343-9169-4e871bbef80c"
      },
      "execution_count": null,
      "outputs": [
        {
          "output_type": "stream",
          "name": "stdout",
          "text": [
            "30\n"
          ]
        }
      ]
    },
    {
      "cell_type": "code",
      "source": [
        "a=np.array([[1,2,3],[5,6,7]])\n",
        "print(a[1,2])"
      ],
      "metadata": {
        "colab": {
          "base_uri": "https://localhost:8080/"
        },
        "id": "r0w0UGDHfNxG",
        "outputId": "e2a10ed8-8424-415f-f0a1-399c9322142c"
      },
      "execution_count": null,
      "outputs": [
        {
          "output_type": "stream",
          "name": "stdout",
          "text": [
            "7\n"
          ]
        }
      ]
    },
    {
      "cell_type": "code",
      "source": [
        "import numpy as np\n",
        "a=np.array([[[1,2,3],[4,5,6]],[[7,8,9],[10,11,12]]])\n",
        "print(a[0,0,2])"
      ],
      "metadata": {
        "colab": {
          "base_uri": "https://localhost:8080/"
        },
        "id": "PC9e2qkbf51c",
        "outputId": "e1390ced-7626-4c2c-ed3e-c710d0146d49"
      },
      "execution_count": null,
      "outputs": [
        {
          "output_type": "stream",
          "name": "stdout",
          "text": [
            "3\n"
          ]
        }
      ]
    },
    {
      "cell_type": "code",
      "source": [
        "print(a)"
      ],
      "metadata": {
        "colab": {
          "base_uri": "https://localhost:8080/"
        },
        "id": "RZQbcNOhiK1V",
        "outputId": "99c23a96-45f6-4695-846c-ebaf0dfda4fc"
      },
      "execution_count": null,
      "outputs": [
        {
          "output_type": "stream",
          "name": "stdout",
          "text": [
            "[[[ 1  2  3]\n",
            "  [ 4  5  6]]\n",
            "\n",
            " [[ 7  8  9]\n",
            "  [10 11 12]]]\n"
          ]
        }
      ]
    },
    {
      "cell_type": "markdown",
      "source": [
        "Array silicing using numpy"
      ],
      "metadata": {
        "id": "RU35D3SJT4e0"
      }
    },
    {
      "cell_type": "code",
      "source": [
        "a=np.array([10,20,30,40,50,60,70,80])\n",
        "print(a[1:4])\n",
        "print(a[ ::3])"
      ],
      "metadata": {
        "colab": {
          "base_uri": "https://localhost:8080/"
        },
        "id": "ZlFOT2eGifeC",
        "outputId": "53bdac18-674b-4fca-d84c-2a5c43f6065c"
      },
      "execution_count": null,
      "outputs": [
        {
          "output_type": "stream",
          "name": "stdout",
          "text": [
            "[20 30 40]\n",
            "[10 40 70]\n"
          ]
        }
      ]
    },
    {
      "cell_type": "code",
      "source": [
        "a=np.array([10,20,30,40,50,60])\n",
        "print(a[0:5:2])"
      ],
      "metadata": {
        "colab": {
          "base_uri": "https://localhost:8080/"
        },
        "id": "nndN88lCjfLn",
        "outputId": "7c9b21e4-5166-44d4-c8b4-94d24643bd53"
      },
      "execution_count": null,
      "outputs": [
        {
          "output_type": "stream",
          "name": "stdout",
          "text": [
            "[10 30 50]\n"
          ]
        }
      ]
    },
    {
      "cell_type": "code",
      "source": [
        "\n",
        "import numpy as np\n",
        "a=np.array([[10,20, 30],[40,50,60]])\n",
        "print(a[1,0:3])"
      ],
      "metadata": {
        "colab": {
          "base_uri": "https://localhost:8080/"
        },
        "id": "R68B7MiIkLuK",
        "outputId": "961b1762-1f8a-4419-966f-7d38b2c95abd"
      },
      "execution_count": null,
      "outputs": [
        {
          "output_type": "stream",
          "name": "stdout",
          "text": [
            "[40 50 60]\n"
          ]
        }
      ]
    },
    {
      "cell_type": "markdown",
      "source": [
        "In NumPy, the numpy.full function is used to create an array of a specified shape and fill it with a constant value. This is useful when you want to initialize an array with a specific constant value throughout."
      ],
      "metadata": {
        "id": "ZILF1bx8UL_7"
      }
    },
    {
      "cell_type": "code",
      "source": [
        "\n",
        "import numpy as np\n",
        "n1=np.full((2,3),10)\n",
        "n1"
      ],
      "metadata": {
        "colab": {
          "base_uri": "https://localhost:8080/"
        },
        "id": "A2rA4HoMpWA0",
        "outputId": "92b71851-b81e-43b2-8adb-72455bd0c9fc"
      },
      "execution_count": null,
      "outputs": [
        {
          "output_type": "execute_result",
          "data": {
            "text/plain": [
              "array([[10, 10, 10],\n",
              "       [10, 10, 10]])"
            ]
          },
          "metadata": {},
          "execution_count": 5
        }
      ]
    },
    {
      "cell_type": "code",
      "source": [
        "import numpy as np"
      ],
      "metadata": {
        "id": "EIMF9ICep5-C"
      },
      "execution_count": null,
      "outputs": []
    },
    {
      "cell_type": "markdown",
      "source": [
        "Arrange function in numpy"
      ],
      "metadata": {
        "id": "eNHDt7blURCs"
      }
    },
    {
      "cell_type": "code",
      "source": [
        "n1=np.arange(10,20)\n",
        "n1"
      ],
      "metadata": {
        "colab": {
          "base_uri": "https://localhost:8080/"
        },
        "id": "Lw7X_2fCp8hz",
        "outputId": "aa1cfdde-de49-4be7-9b42-1d550ddeadb3"
      },
      "execution_count": null,
      "outputs": [
        {
          "output_type": "execute_result",
          "data": {
            "text/plain": [
              "array([10, 11, 12, 13, 14, 15, 16, 17, 18, 19])"
            ]
          },
          "metadata": {},
          "execution_count": 6
        }
      ]
    },
    {
      "cell_type": "markdown",
      "source": [
        "In NumPy, the shape attribute is used to get the dimensions or shape of an array. It returns a tuple representing the size of each dimension in the array. The shape is a fundamental property of a NumPy array, and it allows you to understand how the array is organized in terms of rows, columns, and other dimensions."
      ],
      "metadata": {
        "id": "b25fA4BSUf5T"
      }
    },
    {
      "cell_type": "code",
      "source": [
        "n2=np.array([[1,2,3],[5,6,7]])\n",
        "n2.shape"
      ],
      "metadata": {
        "colab": {
          "base_uri": "https://localhost:8080/"
        },
        "id": "utRKPksAqw5-",
        "outputId": "967c252f-f6b3-4031-e4c0-003976d1a4a2"
      },
      "execution_count": null,
      "outputs": [
        {
          "output_type": "execute_result",
          "data": {
            "text/plain": [
              "(2, 3)"
            ]
          },
          "metadata": {},
          "execution_count": 15
        }
      ]
    },
    {
      "cell_type": "markdown",
      "source": [
        "In NumPy, the numpy.sum function is used to calculate the sum of array elements along a specified axis or of the whole array. This function is versatile and can be applied to arrays of any dimension."
      ],
      "metadata": {
        "id": "U7uiE3sMU-jP"
      }
    },
    {
      "cell_type": "code",
      "source": [
        "import numpy as np\n",
        "n1=np.array([10,20])\n",
        "n2=np.array([30,40])\n",
        "np.sum([n1,n2],)"
      ],
      "metadata": {
        "colab": {
          "base_uri": "https://localhost:8080/"
        },
        "id": "s41UnS55vB0V",
        "outputId": "cba1048f-353a-461a-eec8-afaef9b34006"
      },
      "execution_count": null,
      "outputs": [
        {
          "output_type": "execute_result",
          "data": {
            "text/plain": [
              "100"
            ]
          },
          "metadata": {},
          "execution_count": 3
        }
      ]
    },
    {
      "cell_type": "code",
      "source": [
        "import numpy as np"
      ],
      "metadata": {
        "id": "SufNLymPvfZk"
      },
      "execution_count": null,
      "outputs": []
    },
    {
      "cell_type": "markdown",
      "source": [
        "To add to a linear element to the array"
      ],
      "metadata": {
        "id": "m93rTRKwVPiH"
      }
    },
    {
      "cell_type": "code",
      "source": [
        "n1=np.array([10,20,30])\n",
        "n1=n1+1\n",
        "n1"
      ],
      "metadata": {
        "colab": {
          "base_uri": "https://localhost:8080/"
        },
        "id": "rPUMZ8DUvokP",
        "outputId": "32acd6bd-2359-4923-d923-a822cb927ba9"
      },
      "execution_count": null,
      "outputs": [
        {
          "output_type": "execute_result",
          "data": {
            "text/plain": [
              "array([11, 21, 31])"
            ]
          },
          "metadata": {},
          "execution_count": 21
        }
      ]
    },
    {
      "cell_type": "markdown",
      "source": [
        "To multiply a linear element to the array"
      ],
      "metadata": {
        "id": "hGZwNF5_VUq9"
      }
    },
    {
      "cell_type": "code",
      "source": [
        "n1=np.array([10,20,30])\n",
        "n1=n1*2\n",
        "n1"
      ],
      "metadata": {
        "colab": {
          "base_uri": "https://localhost:8080/"
        },
        "id": "fJ2UBM3Tv5I1",
        "outputId": "0f5298c2-4f28-4ab9-a3f2-0e84178500f8"
      },
      "execution_count": null,
      "outputs": [
        {
          "output_type": "execute_result",
          "data": {
            "text/plain": [
              "array([20, 40, 60])"
            ]
          },
          "metadata": {},
          "execution_count": 23
        }
      ]
    },
    {
      "cell_type": "markdown",
      "source": [
        "To subtract a linear element to the array"
      ],
      "metadata": {
        "id": "OTBuQUnAVhIQ"
      }
    },
    {
      "cell_type": "code",
      "source": [
        "n1=np.array([10,20,30])\n",
        "n1=n1-2\n",
        "n1"
      ],
      "metadata": {
        "colab": {
          "base_uri": "https://localhost:8080/"
        },
        "id": "bMZIp81BwCLt",
        "outputId": "ec1721f7-6289-48f4-e077-bcd04695271e"
      },
      "execution_count": null,
      "outputs": [
        {
          "output_type": "execute_result",
          "data": {
            "text/plain": [
              "array([ 8, 18, 28])"
            ]
          },
          "metadata": {},
          "execution_count": 24
        }
      ]
    },
    {
      "cell_type": "markdown",
      "source": [
        "In NumPy, the numpy.mean function is used to calculate the mean, or average, of array elements along a specified axis or of the whole array. The mean is the sum of the array elements divided by the number of elements."
      ],
      "metadata": {
        "id": "d43AWxYLVtV2"
      }
    },
    {
      "cell_type": "code",
      "source": [
        "n1=np.array([10,20,30])\n",
        "np.mean(n1)"
      ],
      "metadata": {
        "colab": {
          "base_uri": "https://localhost:8080/"
        },
        "id": "1IcMvXyUwOvR",
        "outputId": "d07291fc-38c5-4678-9c5e-df97bc2e6cc0"
      },
      "execution_count": null,
      "outputs": [
        {
          "output_type": "execute_result",
          "data": {
            "text/plain": [
              "20.0"
            ]
          },
          "metadata": {},
          "execution_count": 25
        }
      ]
    },
    {
      "cell_type": "markdown",
      "source": [
        "NumPy, the numpy.median function is used to calculate the median of array elements along a specified axis or of the whole array. The median is the middle value of a dataset when it is ordered. If the dataset has an odd number of elements, the median is the middle value. If the dataset has an even number of elements, the median is the average of the two middle values."
      ],
      "metadata": {
        "id": "5T04NuNnVzBp"
      }
    },
    {
      "cell_type": "code",
      "source": [
        "n1=np.array([10,20,30])\n",
        "np.median(n1)"
      ],
      "metadata": {
        "colab": {
          "base_uri": "https://localhost:8080/"
        },
        "id": "aryjXpvlwdXs",
        "outputId": "dcc4a879-d8b0-429c-de04-755c0b4e355c"
      },
      "execution_count": null,
      "outputs": [
        {
          "output_type": "execute_result",
          "data": {
            "text/plain": [
              "20.0"
            ]
          },
          "metadata": {},
          "execution_count": 26
        }
      ]
    },
    {
      "cell_type": "markdown",
      "source": [
        "NumPy, the numpy.median function is used to calculate the median of array elements along a specified axis or of the whole array. The median is the middle value of a dataset when it is ordered. If the dataset has an odd number of elements, the median is the middle value. If the dataset has an even number of elements, the median is the average of the two middle values."
      ],
      "metadata": {
        "id": "zf4DxkpkVwzm"
      }
    },
    {
      "cell_type": "code",
      "source": [
        "n1=np.array([15,3,45,66,88])\n",
        "np.std(n1)"
      ],
      "metadata": {
        "colab": {
          "base_uri": "https://localhost:8080/"
        },
        "id": "0KL4Ly17w_2V",
        "outputId": "4a713107-f6e0-41c2-d10a-6a443b9f718d"
      },
      "execution_count": null,
      "outputs": [
        {
          "output_type": "execute_result",
          "data": {
            "text/plain": [
              "31.436284767764782"
            ]
          },
          "metadata": {},
          "execution_count": 27
        }
      ]
    },
    {
      "cell_type": "markdown",
      "source": [
        "To print the element in the array"
      ],
      "metadata": {
        "id": "4ifJl46xWPqg"
      }
    },
    {
      "cell_type": "code",
      "source": [
        "\n",
        "import numpy as np\n",
        "n1=np.array([[1,2,3],[4,5,6]])\n",
        "n1"
      ],
      "metadata": {
        "colab": {
          "base_uri": "https://localhost:8080/"
        },
        "id": "7g167YzFxROu",
        "outputId": "a48f57ef-b7ed-461c-deef-4d5ace919fcd"
      },
      "execution_count": null,
      "outputs": [
        {
          "output_type": "execute_result",
          "data": {
            "text/plain": [
              "array([[1, 2, 3],\n",
              "       [4, 5, 6]])"
            ]
          },
          "metadata": {},
          "execution_count": 6
        }
      ]
    },
    {
      "cell_type": "code",
      "source": [
        "n1[0]"
      ],
      "metadata": {
        "colab": {
          "base_uri": "https://localhost:8080/"
        },
        "id": "KxGb5HOyx4aA",
        "outputId": "d05e4217-1d7e-4069-df9b-af21568e56ab"
      },
      "execution_count": null,
      "outputs": [
        {
          "output_type": "execute_result",
          "data": {
            "text/plain": [
              "array([1, 2, 3])"
            ]
          },
          "metadata": {},
          "execution_count": 31
        }
      ]
    },
    {
      "cell_type": "code",
      "source": [
        "n1[1]"
      ],
      "metadata": {
        "colab": {
          "base_uri": "https://localhost:8080/"
        },
        "id": "mb9CCrG4x8Hk",
        "outputId": "2d8d43cc-eddf-4c5c-a9d0-ef926bacdf62"
      },
      "execution_count": null,
      "outputs": [
        {
          "output_type": "execute_result",
          "data": {
            "text/plain": [
              "array([4, 5, 6])"
            ]
          },
          "metadata": {},
          "execution_count": 33
        }
      ]
    },
    {
      "cell_type": "code",
      "source": [
        "import numpy as np\n",
        "n1=np.array([[1,2,3],[4,5,6]])\n",
        "n1[ :,1]"
      ],
      "metadata": {
        "colab": {
          "base_uri": "https://localhost:8080/"
        },
        "id": "JPW5aqYvzn9r",
        "outputId": "0af4ecdd-4f26-4e7f-b0b8-f57bab24ee27"
      },
      "execution_count": null,
      "outputs": [
        {
          "output_type": "execute_result",
          "data": {
            "text/plain": [
              "array([2, 5])"
            ]
          },
          "metadata": {},
          "execution_count": 8
        }
      ]
    },
    {
      "cell_type": "markdown",
      "source": [
        "In NumPy, the numpy.transpose function, or the .T attribute of an array, is used to interchange or permute the axes of an array. This operation effectively flips the array along its diagonal. It is particularly useful for rearranging data when dealing with multi-dimensional arrays."
      ],
      "metadata": {
        "id": "sDI_cNvkWUAL"
      }
    },
    {
      "cell_type": "code",
      "source": [
        "import numpy as np\n",
        "n1=np.array([[1,2,3],[4,5,6]])\n",
        "n1.transpose()"
      ],
      "metadata": {
        "colab": {
          "base_uri": "https://localhost:8080/"
        },
        "id": "EQntmab80dtN",
        "outputId": "c955a430-4e04-4647-bf9a-e34867f73ea7"
      },
      "execution_count": null,
      "outputs": [
        {
          "output_type": "execute_result",
          "data": {
            "text/plain": [
              "array([[1, 4],\n",
              "       [2, 5],\n",
              "       [3, 6]])"
            ]
          },
          "metadata": {},
          "execution_count": 10
        }
      ]
    },
    {
      "cell_type": "markdown",
      "source": [
        "In NumPy, the numpy.setdiff1d function is used to find the set difference of two arrays. The set difference of two arrays contains elements that are in the first array but not in the second array."
      ],
      "metadata": {
        "id": "pINDiKvEWwEA"
      }
    },
    {
      "cell_type": "markdown",
      "source": [],
      "metadata": {
        "id": "TsHvcsHHW51F"
      }
    },
    {
      "cell_type": "code",
      "source": [
        "import numpy as np\n",
        "n1=np.array([10,20,30,40,50,60])\n",
        "n2=np.array([50,60,70,80,90,30])\n",
        "np.intersect1d(n1,n2)"
      ],
      "metadata": {
        "colab": {
          "base_uri": "https://localhost:8080/"
        },
        "id": "mFrWILumODXn",
        "outputId": "cb6c23c2-6a51-42d0-b499-341ec41d8f2d"
      },
      "execution_count": null,
      "outputs": [
        {
          "output_type": "execute_result",
          "data": {
            "text/plain": [
              "array([30, 50, 60])"
            ]
          },
          "metadata": {},
          "execution_count": 19
        }
      ]
    },
    {
      "cell_type": "markdown",
      "source": [
        "It seems there might be a bit of confusion in your question. In NumPy, the function for finding the set difference of two arrays is numpy.setdiff1d, as I mentioned in the previous response. If you have a different context or library in mind, please provide more details"
      ],
      "metadata": {
        "id": "Gn5-_sQHW7Ge"
      }
    },
    {
      "cell_type": "code",
      "source": [
        "import numpy as np\n",
        "n1=np.array([10,20,30,40,50,60])\n",
        "n2=np.array([50,60,70,80,90,30])\n",
        "np.setdiff1d(n2,n1)"
      ],
      "metadata": {
        "colab": {
          "base_uri": "https://localhost:8080/"
        },
        "id": "su8r9O1ROkRD",
        "outputId": "eb648e74-9fa5-4ca9-a89f-8bd5d71c58de"
      },
      "execution_count": null,
      "outputs": [
        {
          "output_type": "execute_result",
          "data": {
            "text/plain": [
              "array([70, 80, 90])"
            ]
          },
          "metadata": {},
          "execution_count": 21
        }
      ]
    },
    {
      "cell_type": "code",
      "source": [
        "\n",
        "\n",
        "arr = np.array([3, 1, 4, 1, 5, 9, 2, 6, 5, 3, 5])\n",
        "\n",
        "# Sort the array\n",
        "sorted_arr = np.sort(arr)\n",
        "\n",
        "print(\"Original array:\", arr)\n",
        "print(\"Sorted array:\", sorted_arr)\n",
        "\n",
        "\n",
        "# Create a 2D array\n",
        "arr_2d = np.array([[3, 1, 4],\n",
        "                   [1, 5, 9],\n",
        "                   [2, 6, 5]])\n",
        "\n",
        "# Sort along the last axis\n",
        "sorted_arr_2d = np.sort(arr_2d, axis=-1)\n",
        "\n",
        "print(\"Original 2D array:\")\n",
        "print(arr_2d)\n",
        "\n",
        "print(\"\\nSorted 2D array along the last axis:\")\n",
        "print(sorted_arr_2d)"
      ],
      "metadata": {
        "id": "nh16BUAWuPLd"
      },
      "execution_count": null,
      "outputs": []
    },
    {
      "cell_type": "markdown",
      "source": [
        "The numpy.save function in NumPy is used to save a single array to a binary file in a custom NumPy format with a .npy extension. This format is efficient for storing and loading large arrays and preserves the array's dtype and shape information."
      ],
      "metadata": {
        "id": "qP6UTAblXCEb"
      }
    },
    {
      "cell_type": "code",
      "source": [
        "\n",
        "\n",
        "import numpy as np\n",
        "\n",
        "# Create an array\n",
        "arr = np.array([1, 2, 3, 4, 5])\n",
        "\n",
        "# Save the array to a file\n",
        "np.save('saved_array.npy', arr)"
      ],
      "metadata": {
        "id": "j7IIzcv_uXrC"
      },
      "execution_count": null,
      "outputs": []
    },
    {
      "cell_type": "markdown",
      "source": [
        "To load a NumPy array that you have previously saved using numpy.save, you can use the numpy.load function."
      ],
      "metadata": {
        "id": "ls8_7yXhXAfx"
      }
    },
    {
      "cell_type": "code",
      "source": [
        "\n",
        "\n",
        "# Load the saved array\n",
        "loaded_arr = np.load('saved_array.npy')\n",
        "\n",
        "print(\"Loaded array:\", loaded_arr)"
      ],
      "metadata": {
        "colab": {
          "base_uri": "https://localhost:8080/"
        },
        "id": "w_Z6M9PbudAx",
        "outputId": "e7f77aac-e63a-41d1-d2dd-eaaee1426044"
      },
      "execution_count": null,
      "outputs": [
        {
          "output_type": "stream",
          "name": "stdout",
          "text": [
            "Loaded array: [1 2 3 4 5]\n"
          ]
        }
      ]
    }
  ]
}